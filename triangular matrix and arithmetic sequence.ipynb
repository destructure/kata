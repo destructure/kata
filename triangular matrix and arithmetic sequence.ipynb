{
 "metadata": {
  "name": "",
  "signature": "sha256:8dbd8acd6351a182e713a86632a29c57968dab3d0e596e3dbfdabdeeab71aeb9"
 },
 "nbformat": 3,
 "nbformat_minor": 0,
 "worksheets": [
  {
   "cells": [
    {
     "cell_type": "markdown",
     "metadata": {},
     "source": [
      "# Exercise\n",
      "\n",
      "Fill in a diagonal matrix sequentially.\n",
      "\n",
      "Consider the matrix below:\n",
      "\n",
      "      [[ 0,  1,  2,  3,  4,  5],\n",
      "       [ 0,  6,  7,  8,  9, 10],\n",
      "       [ 0,  0, 11, 12, 13, 14],\n",
      "       [ 0,  0,  0, 15, 16, 17],\n",
      "       [ 0,  0,  0,  0, 18, 19],\n",
      "       [ 0,  0,  0,  0,  0, 20]]\n",
      " \n",
      "\n",
      "How would you fill this in *without using a counter*?"
     ]
    },
    {
     "cell_type": "code",
     "collapsed": false,
     "input": [
      "import numpy as np"
     ],
     "language": "python",
     "metadata": {},
     "outputs": [],
     "prompt_number": 1
    },
    {
     "cell_type": "code",
     "collapsed": false,
     "input": [
      "\n",
      "# here's the counter version:\n",
      "\n",
      "m=6\n",
      "a=np.zeros((m,m), np.int)\n",
      "v=0\n",
      "for i in range(m):\n",
      "    for j in range(i,m):\n",
      "        a[i,j]=v\n",
      "        v+=1\n",
      "a"
     ],
     "language": "python",
     "metadata": {},
     "outputs": [
      {
       "metadata": {},
       "output_type": "pyout",
       "prompt_number": 2,
       "text": [
        "array([[ 0,  1,  2,  3,  4,  5],\n",
        "       [ 0,  6,  7,  8,  9, 10],\n",
        "       [ 0,  0, 11, 12, 13, 14],\n",
        "       [ 0,  0,  0, 15, 16, 17],\n",
        "       [ 0,  0,  0,  0, 18, 19],\n",
        "       [ 0,  0,  0,  0,  0, 20]])"
       ]
      }
     ],
     "prompt_number": 2
    },
    {
     "cell_type": "markdown",
     "metadata": {},
     "source": [
      "But notice that counter, $v$. It requires that you calculate the whole matrix up to that point.\n",
      "What if I only want to know `a[4,4]`?\n",
      "\n",
      "First, let's just take a look at the row numbers."
     ]
    },
    {
     "cell_type": "code",
     "collapsed": false,
     "input": [
      "b=np.zeros((m,m), np.int)\n",
      "for i in range(m):\n",
      "    for j in range(i,m):\n",
      "        b[i,j]=i*m\n",
      "bdiag=np.diag(b)\n",
      "print b\n",
      "\n"
     ],
     "language": "python",
     "metadata": {},
     "outputs": [
      {
       "output_type": "stream",
       "stream": "stdout",
       "text": [
        "[[ 0  0  0  0  0  0]\n",
        " [ 0  6  6  6  6  6]\n",
        " [ 0  0 12 12 12 12]\n",
        " [ 0  0  0 18 18 18]\n",
        " [ 0  0  0  0 24 24]\n",
        " [ 0  0  0  0  0 30]]\n"
       ]
      }
     ],
     "prompt_number": 3
    },
    {
     "cell_type": "code",
     "collapsed": false,
     "input": [
      "# this gets us pretty close: here's the difference\n",
      "\n",
      "bdiag - np.diag(a)"
     ],
     "language": "python",
     "metadata": {},
     "outputs": [
      {
       "metadata": {},
       "output_type": "pyout",
       "prompt_number": 4,
       "text": [
        "array([ 0,  0,  1,  3,  6, 10])"
       ]
      }
     ],
     "prompt_number": 4
    },
    {
     "cell_type": "markdown",
     "metadata": {},
     "source": [
      "What accounts for the discrepancy? `b[5,5]` should be 30, but it comes out to 20.\n",
      "What formula can we use to account for the difference? The key\n",
      "observation is the zeros in the lower left matrix.  If we can count those,\n",
      "we can subtract the right number."
     ]
    },
    {
     "cell_type": "code",
     "collapsed": false,
     "input": [
      "offsets=np.zeros((m),np.int)\n",
      "for i in range(m):\n",
      "    offsets[i]=i*(i-1)/2\n",
      "                 \n",
      "                 \n",
      "offsets "
     ],
     "language": "python",
     "metadata": {},
     "outputs": [
      {
       "metadata": {},
       "output_type": "pyout",
       "prompt_number": 6,
       "text": [
        "array([ 0,  0,  1,  3,  6, 10])"
       ]
      }
     ],
     "prompt_number": 6
    },
    {
     "cell_type": "markdown",
     "metadata": {},
     "source": [
      "That accounts for the difference.\n",
      "One additional zero is missing from each row, which forms an [arithmetic sequence](https://en.wikipedia.org/wiki/Arithmetic_progression).\n",
      "\n",
      "So if we subtract that, we can calculate the value of any cell in the array without relying on past values,\n",
      "a speedum from linear to constant time.\n",
      "\n",
      "There is one more factor to consider, however. Our arithmetic sequence is offset by one, because the first row is missing no elements. So we use ${(i+1) \\times i}\\over{2}$ instead of ${(i) \\times (i-1)}\\over{2}$ "
     ]
    },
    {
     "cell_type": "code",
     "collapsed": false,
     "input": [
      "\n",
      "c=np.zeros((m,m), np.int)\n",
      "for i in range(m):\n",
      "    for j in range(i,m):\n",
      "        c[i,j]=i*m - i*(i+1)/2  + j\n",
      "\n",
      "print \"c matches a?\", np.all((c - a)==0)\n",
      "c"
     ],
     "language": "python",
     "metadata": {},
     "outputs": [
      {
       "output_type": "stream",
       "stream": "stdout",
       "text": [
        "c matches a? True\n"
       ]
      },
      {
       "metadata": {},
       "output_type": "pyout",
       "prompt_number": 5,
       "text": [
        "array([[ 0,  1,  2,  3,  4,  5],\n",
        "       [ 0,  6,  7,  8,  9, 10],\n",
        "       [ 0,  0, 11, 12, 13, 14],\n",
        "       [ 0,  0,  0, 15, 16, 17],\n",
        "       [ 0,  0,  0,  0, 18, 19],\n",
        "       [ 0,  0,  0,  0,  0, 20]])"
       ]
      }
     ],
     "prompt_number": 5
    }
   ],
   "metadata": {}
  }
 ]
}